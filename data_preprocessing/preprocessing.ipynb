{
 "cells": [
  {
   "cell_type": "code",
   "execution_count": 1,
   "id": "e33d776f",
   "metadata": {},
   "outputs": [],
   "source": [
    "import pandas as pd\n",
    "links=pd.read_csv(\"ml-32m/links.csv\")"
   ]
  },
  {
   "cell_type": "code",
   "execution_count": 2,
   "id": "494d2d0c",
   "metadata": {},
   "outputs": [
    {
     "name": "stdout",
     "output_type": "stream",
     "text": [
      "   movieId  imdbId   tmdbId\n",
      "0        1  114709    862.0\n",
      "1        2  113497   8844.0\n",
      "2        3  113228  15602.0\n",
      "3        4  114885  31357.0\n",
      "4        5  113041  11862.0 (87585, 3)\n",
      "number of duplicated recored in each column\n",
      " movieId    159\n",
      "tmdbId      36\n",
      "dtype: int64 movieId    0\n",
      "tmdbId     0\n",
      "dtype: int64\n",
      "Empty DataFrame\n",
      "Columns: [movieId, tmdbId]\n",
      "Index: []\n",
      "work on duplincation ends \n",
      "------------------------------------------------\n",
      "count na data \n",
      " movieId    0\n",
      "tmdbId     1\n",
      "dtype: int64\n",
      "count na data after drop\n",
      " movieId    0\n",
      "tmdbId     0\n",
      "dtype: int64 \n",
      "------------------------------------------------\n"
     ]
    }
   ],
   "source": [
    "print(links.head(),links.shape)\n",
    "links.drop(labels='imdbId',axis=1,inplace=True)#,'movieId'\n",
    "print('number of duplicated recored in each column\\n',links[links.duplicated('tmdbId')].count(),links[links.duplicated('movieId')].count())\n",
    "links.drop_duplicates(subset=['movieId'],inplace=True)\n",
    "links.drop_duplicates(subset=['tmdbId'],inplace=True)\n",
    "print(links[links.duplicated()])\n",
    "print('work on duplincation ends \\n------------------------------------------------')\n",
    "print('count na data \\n',links.isna().sum())\n",
    "links.dropna(inplace=True)\n",
    "print('count na data after drop\\n',links.isna().sum(),'\\n------------------------------------------------')\n"
   ]
  },
  {
   "cell_type": "code",
   "execution_count": 3,
   "id": "70ac3c4c",
   "metadata": {},
   "outputs": [],
   "source": [
    "import os \n",
    "lpath=r'cpdata1v2'\n",
    "os.makedirs(lpath,exist_ok=True)\n",
    "links.to_csv(lpath+'\\\\links.csv',index=False)\n"
   ]
  },
  {
   "cell_type": "code",
   "execution_count": 4,
   "id": "f255ec66",
   "metadata": {},
   "outputs": [
    {
     "name": "stdout",
     "output_type": "stream",
     "text": [
      "(87425, 2) (32000204, 4) (18460, 20)\n"
     ]
    }
   ],
   "source": [
    "links=pd.read_csv(lpath+'\\\\links.csv')\n",
    "rating=pd.read_csv(lpath+'\\\\ratings.csv')\n",
    "movies=pd.read_csv(lpath+'\\\\movies_data.csv')\n",
    "print(links.shape,rating.shape,movies.shape)"
   ]
  },
  {
   "cell_type": "code",
   "execution_count": 5,
   "id": "b22a7b45",
   "metadata": {},
   "outputs": [
    {
     "name": "stdout",
     "output_type": "stream",
     "text": [
      "Empty DataFrame\n",
      "Columns: [userId, movieId, rating, timestamp]\n",
      "Index: []\n"
     ]
    },
    {
     "data": {
      "text/plain": [
       "userId       0\n",
       "movieId      0\n",
       "rating       0\n",
       "timestamp    0\n",
       "dtype: int64"
      ]
     },
     "execution_count": 5,
     "metadata": {},
     "output_type": "execute_result"
    }
   ],
   "source": [
    "print(rating[rating.duplicated()])\n",
    "print(rating.isna().sum())"
   ]
  },
  {
   "cell_type": "code",
   "execution_count": 6,
   "id": "f5009419",
   "metadata": {},
   "outputs": [
    {
     "name": "stdout",
     "output_type": "stream",
     "text": [
      "(18460, 20)\n",
      "check duplication\n",
      " Empty DataFrame\n",
      "Columns: [Movie ID, Title, Overview, Genres, Release Date, Runtime, Average Rating, Vote Count, Popularity, Budget, Adult, Poster Path, Backdrop Path, Cast, Director, Keywords, Production Companies, Production Countries, Similar Movies, Movie Homepage]\n",
      "Index: [] \n",
      "-----------------------------------\n",
      "check duplication\n",
      " Empty DataFrame\n",
      "Columns: [Movie ID, Title, Overview, Genres, Release Date, Runtime, Average Rating, Vote Count, Popularity, Budget, Adult, Poster Path, Backdrop Path, Cast, Director, Keywords, Production Companies, Production Countries, Similar Movies, Movie Homepage]\n",
      "Index: [] \n",
      "-----------------------------------\n",
      "check missing value in each column\n",
      " Movie ID                    0\n",
      "Title                       0\n",
      "Overview                  521\n",
      "Genres                    286\n",
      "Release Date               27\n",
      "Runtime                     0\n",
      "Average Rating              0\n",
      "Vote Count                  0\n",
      "Popularity                  0\n",
      "Budget                      0\n",
      "Adult                       0\n",
      "Poster Path               365\n",
      "Backdrop Path            1403\n",
      "Cast                      251\n",
      "Director                  359\n",
      "Keywords                 2133\n",
      "Production Companies     1546\n",
      "Production Countries      453\n",
      "Similar Movies           1778\n",
      "Movie Homepage          13054\n",
      "dtype: int64 \n",
      "-----------------------------------\n"
     ]
    }
   ],
   "source": [
    "print(movies.shape)\n",
    "print('check duplication\\n',movies[movies.duplicated()],'\\n-----------------------------------')\n",
    "print('check duplication\\n',movies[movies['Movie ID'].duplicated()],'\\n-----------------------------------')\n",
    "print('check missing value in each column\\n',movies.isna().sum(),'\\n-----------------------------------')"
   ]
  },
  {
   "cell_type": "code",
   "execution_count": 7,
   "id": "979e8136",
   "metadata": {},
   "outputs": [],
   "source": [
    "movies.dropna(axis=0,subset=['Cast','Director','Overview','Genres','Poster Path','Backdrop Path','Release Date'],inplace=True)"
   ]
  },
  {
   "cell_type": "code",
   "execution_count": 8,
   "id": "e523102e",
   "metadata": {},
   "outputs": [
    {
     "name": "stdout",
     "output_type": "stream",
     "text": [
      "(87425, 2)\n",
      "(13663, 2)\n",
      "13663 200948\n"
     ]
    },
    {
     "data": {
      "text/plain": [
       "((29606259, 4), (13663, 20))"
      ]
     },
     "execution_count": 8,
     "metadata": {},
     "output_type": "execute_result"
    }
   ],
   "source": [
    "print(links.shape)\n",
    "links=links[links['tmdbId'].isin(movies['Movie ID'])]\n",
    "links=links[links['movieId'].isin(rating['movieId'])]\n",
    "print(links.shape)\n",
    "movies=movies[movies['Movie ID'].isin(links['tmdbId'])]\n",
    "rating=rating[rating['movieId'].isin(links['movieId'])]\n",
    "print(len(rating['movieId'].unique()),len(rating['userId'].unique()))\n",
    "rating.shape,movies.shape\n"
   ]
  },
  {
   "cell_type": "code",
   "execution_count": 9,
   "id": "00099c0f",
   "metadata": {},
   "outputs": [
    {
     "name": "stdout",
     "output_type": "stream",
     "text": [
      "check duplication\n",
      " Empty DataFrame\n",
      "Columns: [Movie ID, Title, Overview, Genres, Release Date, Runtime, Average Rating, Vote Count, Popularity, Budget, Adult, Poster Path, Backdrop Path, Cast, Director, Keywords, Production Companies, Production Countries, Similar Movies, Movie Homepage]\n",
      "Index: [] \n",
      "-----------------------------------\n",
      "check missing value in each column\n",
      " Movie ID                   0\n",
      "Title                      0\n",
      "Overview                   0\n",
      "Genres                     0\n",
      "Release Date               0\n",
      "Runtime                    0\n",
      "Average Rating             0\n",
      "Vote Count                 0\n",
      "Popularity                 0\n",
      "Budget                     0\n",
      "Adult                      0\n",
      "Poster Path                0\n",
      "Backdrop Path              0\n",
      "Cast                       0\n",
      "Director                   0\n",
      "Keywords                 797\n",
      "Production Companies     325\n",
      "Production Countries      71\n",
      "Similar Movies           653\n",
      "Movie Homepage          9386\n",
      "dtype: int64 \n",
      "-----------------------------------\n"
     ]
    }
   ],
   "source": [
    "print('check duplication\\n',movies[movies.duplicated()],'\\n-----------------------------------')\n",
    "print('check missing value in each column\\n',movies.isna().sum(),'\\n-----------------------------------')"
   ]
  },
  {
   "cell_type": "code",
   "execution_count": 10,
   "id": "d9df1718",
   "metadata": {},
   "outputs": [],
   "source": [
    "lpath=r'cpdata2v2'\n",
    "os.makedirs(lpath,exist_ok=True)\n",
    "links.to_csv(lpath+'\\\\links.csv',index=False)\n",
    "rating.to_csv(lpath+'\\\\ratings.csv',index=False)\n",
    "movies.to_csv(lpath+'\\\\movies.csv',index=False)"
   ]
  },
  {
   "cell_type": "code",
   "execution_count": 18,
   "id": "fc0f1e1d",
   "metadata": {},
   "outputs": [
    {
     "data": {
      "text/plain": [
       "((29606259, 4), (13663, 20), (13663, 2))"
      ]
     },
     "execution_count": 18,
     "metadata": {},
     "output_type": "execute_result"
    }
   ],
   "source": [
    "lpath=r'cpdata2v2'\n",
    "rating=pd.read_csv(lpath+'\\\\ratings.csv')\n",
    "movies=pd.read_csv(lpath+'\\\\movies.csv')\n",
    "links=pd.read_csv(lpath+'\\\\links.csv')\n",
    "rating.shape,movies.shape,links.shape"
   ]
  },
  {
   "cell_type": "code",
   "execution_count": 19,
   "id": "fa004402",
   "metadata": {},
   "outputs": [
    {
     "name": "stdout",
     "output_type": "stream",
     "text": [
      "(29606259, 4)\n",
      "(29538106, 4)\n",
      "(28289032, 4)\n"
     ]
    }
   ],
   "source": [
    "print(rating.shape)\n",
    "temp=rating.groupby('movieId').filter(lambda x:len(x)>=50)\n",
    "print(temp.shape)\n",
    "temp=temp.groupby('userId').filter(lambda x:len(x)>=35)\n",
    "print(temp.shape)"
   ]
  },
  {
   "cell_type": "code",
   "execution_count": 20,
   "id": "92d333f9",
   "metadata": {},
   "outputs": [
    {
     "data": {
      "text/plain": [
       "(28289032, 4)"
      ]
     },
     "execution_count": 20,
     "metadata": {},
     "output_type": "execute_result"
    }
   ],
   "source": [
    "rating=temp\n",
    "rating.shape"
   ]
  },
  {
   "cell_type": "code",
   "execution_count": 21,
   "id": "08b3f6d4",
   "metadata": {},
   "outputs": [
    {
     "name": "stdout",
     "output_type": "stream",
     "text": [
      "movie:  9447 rating movie : 9447\n"
     ]
    }
   ],
   "source": [
    "links=links[links['movieId'].isin(rating['movieId'])]\n",
    "movies=movies[movies['Movie ID'].isin(links['tmdbId'])]\n",
    "print('movie: ',len(movies['Movie ID'].unique()),'rating movie :',len(rating['movieId'].unique()))"
   ]
  },
  {
   "cell_type": "code",
   "execution_count": 22,
   "id": "1dad604f",
   "metadata": {},
   "outputs": [
    {
     "data": {
      "text/plain": [
       "(151967, 9447)"
      ]
     },
     "execution_count": 22,
     "metadata": {},
     "output_type": "execute_result"
    }
   ],
   "source": [
    "r2t=dict({})\n",
    "t2m=dict({})\n",
    "x=1\n",
    "for index,row in movies.iterrows():\n",
    "    if t2m.get(row[\"Movie ID\"])==None:\n",
    "        t2m[row[\"Movie ID\"]]=x\n",
    "        x+=1\n",
    "    else:\n",
    "        print(\"there is redundancy\")\n",
    "        break\n",
    "for index,row in links.iterrows():\n",
    "    if r2t.get(row[\"movieId\"])==None:\n",
    "        r2t[row[\"movieId\"]]=row['tmdbId']\n",
    "    else:\n",
    "        print(\"there is redundancy\")\n",
    "rating['movieId'] = rating['movieId'].map(lambda x: t2m[r2t[x]])\n",
    "movies['Movie ID']=movies['Movie ID'].map(lambda x:t2m[x])\n",
    "rating=rating.drop(labels=['timestamp'],axis=1)\n",
    "rating['userId'] =pd.factorize(rating['userId'])[0]+1\n",
    "len(rating['userId'].unique()),len(rating['movieId'].unique())"
   ]
  },
  {
   "cell_type": "code",
   "execution_count": 23,
   "id": "a197a74f",
   "metadata": {},
   "outputs": [],
   "source": [
    "lpath=r'cpdata3v2'\n",
    "os.makedirs(lpath,exist_ok=True)\n",
    "links.to_csv(lpath+'\\\\links.csv',index=False)\n",
    "rating.to_csv(lpath+'\\\\ratings.csv',index=False)\n",
    "movies.to_csv(lpath+'\\\\movies.csv',index=False)"
   ]
  },
  {
   "cell_type": "code",
   "execution_count": 24,
   "id": "64bc5949",
   "metadata": {},
   "outputs": [],
   "source": [
    "lpath=r'cpdata3v2'\n",
    "rating=pd.read_csv(lpath+'\\\\ratings.csv')\n",
    "movies=pd.read_csv(lpath+'\\\\movies.csv')\n",
    "links=pd.read_csv(lpath+'\\\\links.csv')"
   ]
  },
  {
   "cell_type": "code",
   "execution_count": 30,
   "id": "3f34fdcc",
   "metadata": {},
   "outputs": [
    {
     "name": "stdout",
     "output_type": "stream",
     "text": [
      "(8066061, 3)\n",
      "500000\n",
      "1000000\n",
      "1500000\n",
      "2000000\n",
      "2500000\n",
      "3000000\n",
      "3500000\n",
      "4000000\n",
      "4500000\n",
      "5000000\n",
      "5500000\n",
      "6000000\n",
      "6500000\n",
      "7000000\n",
      "7500000\n",
      "8000000\n",
      "3239661\n"
     ]
    },
    {
     "data": {
      "text/plain": [
       "9447"
      ]
     },
     "execution_count": 30,
     "metadata": {},
     "output_type": "execute_result"
    }
   ],
   "source": [
    "temp_above_600=rating.groupby('userId').filter(lambda x:len(x)>=600)\n",
    "print(temp_above_600.shape)\n",
    "movie_counts = rating['movieId'].value_counts().to_dict()\n",
    "user_counts  = rating['userId' ].value_counts().to_dict()\n",
    "ulp = []\n",
    "for w, (idx, row) in enumerate(temp_above_600.iterrows(), 1):\n",
    "    user_id  = row['userId']\n",
    "    movie_id = row['movieId']\n",
    "    if movie_counts.get(movie_id, 0) > 50 and user_counts.get(user_id, 0) > 600:\n",
    "        movie_counts[movie_id] -= 1\n",
    "        user_counts[user_id]  -= 1\n",
    "        ulp.append((user_id, movie_id))\n",
    "    if w % 500_000 == 0:\n",
    "        print(w)\n",
    "to_remove=pd.MultiIndex.from_tuples(ulp,names=['userId', 'movieId'])\n",
    "keep_mask = ~rating.set_index(['userId', 'movieId']).index.isin(to_remove)\n",
    "print(len(ulp))\n",
    "len(rating[keep_mask].movieId.unique())"
   ]
  },
  {
   "cell_type": "code",
   "execution_count": 33,
   "id": "29bd4a0c",
   "metadata": {},
   "outputs": [
    {
     "data": {
      "text/plain": [
       "(25049371, 3)"
      ]
     },
     "execution_count": 33,
     "metadata": {},
     "output_type": "execute_result"
    }
   ],
   "source": [
    "rating=rating[keep_mask]\n",
    "rating.shape"
   ]
  },
  {
   "cell_type": "code",
   "execution_count": 34,
   "id": "5fcd4598",
   "metadata": {},
   "outputs": [
    {
     "data": {
      "text/plain": [
       "Index(['Movie ID', 'Title', 'Overview', 'Genres', 'Release Date', 'Runtime',\n",
       "       'Average Rating', 'Vote Count', 'Popularity', 'Budget', 'Adult',\n",
       "       'Poster Path', 'Backdrop Path', 'Cast', 'Director', 'Keywords',\n",
       "       'Production Companies', 'Production Countries', 'Similar Movies',\n",
       "       'Movie Homepage'],\n",
       "      dtype='object')"
      ]
     },
     "execution_count": 34,
     "metadata": {},
     "output_type": "execute_result"
    }
   ],
   "source": [
    "movies.columns"
   ]
  },
  {
   "cell_type": "code",
   "execution_count": 36,
   "id": "8c8ab922",
   "metadata": {},
   "outputs": [],
   "source": [
    "movies.drop(labels=['Average Rating', 'Vote Count','Poster Path', 'Backdrop Path', 'Keywords', 'Similar Movies'],axis=1,inplace=True)"
   ]
  },
  {
   "cell_type": "code",
   "execution_count": 37,
   "id": "e1af4824",
   "metadata": {},
   "outputs": [],
   "source": [
    "lpath=r'cpdata4v2'\n",
    "os.makedirs(lpath,exist_ok=True)\n",
    "links.to_csv(lpath+'\\\\links.csv',index=False)\n",
    "rating.to_csv(lpath+'\\\\ratings.csv',index=False)\n",
    "movies.to_csv(lpath+'\\\\movies.csv',index=False)"
   ]
  },
  {
   "cell_type": "code",
   "execution_count": 38,
   "id": "a2e251c8",
   "metadata": {},
   "outputs": [],
   "source": [
    "lpath=r'cpdata4v2'\n",
    "import pandas as pd \n",
    "movies=pd.read_csv(lpath+'\\\\movies.csv')"
   ]
  },
  {
   "cell_type": "code",
   "execution_count": 39,
   "id": "871389c0",
   "metadata": {},
   "outputs": [
    {
     "data": {
      "text/plain": [
       "0            Comedy, Drama, Romance, Crime\n",
       "1                   Comedy, Drama, Romance\n",
       "2                            Comedy, Crime\n",
       "3                  Action, Crime, Thriller\n",
       "4       Adventure, Action, Science Fiction\n",
       "                       ...                \n",
       "9442       Crime, Drama, Thriller, History\n",
       "9443                        Drama, History\n",
       "9444        Fantasy, Drama, Comedy, Family\n",
       "9445               Crime, Action, Thriller\n",
       "9446               Crime, Action, Thriller\n",
       "Name: Genres, Length: 9447, dtype: object"
      ]
     },
     "execution_count": 39,
     "metadata": {},
     "output_type": "execute_result"
    }
   ],
   "source": [
    "movies['Genres']"
   ]
  },
  {
   "cell_type": "code",
   "execution_count": 41,
   "id": "df1119ee",
   "metadata": {},
   "outputs": [],
   "source": [
    "genres=pd.DataFrame(columns=['movie_id','genre'])\n",
    "c=0\n",
    "for index,row in movies.iterrows():\n",
    "    for g in row.get(\"Genres\").split(','):\n",
    "        genres.loc[c]=[row.get(\"Movie ID\"),g.replace(\" \",\"\")]\n",
    "        c+=1"
   ]
  },
  {
   "cell_type": "code",
   "execution_count": 42,
   "id": "57932023",
   "metadata": {},
   "outputs": [
    {
     "data": {
      "text/html": [
       "<div>\n",
       "<style scoped>\n",
       "    .dataframe tbody tr th:only-of-type {\n",
       "        vertical-align: middle;\n",
       "    }\n",
       "\n",
       "    .dataframe tbody tr th {\n",
       "        vertical-align: top;\n",
       "    }\n",
       "\n",
       "    .dataframe thead th {\n",
       "        text-align: right;\n",
       "    }\n",
       "</style>\n",
       "<table border=\"1\" class=\"dataframe\">\n",
       "  <thead>\n",
       "    <tr style=\"text-align: right;\">\n",
       "      <th></th>\n",
       "      <th>movie_id</th>\n",
       "      <th>genre</th>\n",
       "    </tr>\n",
       "  </thead>\n",
       "  <tbody>\n",
       "    <tr>\n",
       "      <th>0</th>\n",
       "      <td>1</td>\n",
       "      <td>Comedy</td>\n",
       "    </tr>\n",
       "    <tr>\n",
       "      <th>1</th>\n",
       "      <td>1</td>\n",
       "      <td>Drama</td>\n",
       "    </tr>\n",
       "    <tr>\n",
       "      <th>2</th>\n",
       "      <td>1</td>\n",
       "      <td>Romance</td>\n",
       "    </tr>\n",
       "    <tr>\n",
       "      <th>3</th>\n",
       "      <td>1</td>\n",
       "      <td>Crime</td>\n",
       "    </tr>\n",
       "    <tr>\n",
       "      <th>4</th>\n",
       "      <td>2</td>\n",
       "      <td>Comedy</td>\n",
       "    </tr>\n",
       "    <tr>\n",
       "      <th>...</th>\n",
       "      <td>...</td>\n",
       "      <td>...</td>\n",
       "    </tr>\n",
       "    <tr>\n",
       "      <th>24882</th>\n",
       "      <td>9446</td>\n",
       "      <td>Action</td>\n",
       "    </tr>\n",
       "    <tr>\n",
       "      <th>24883</th>\n",
       "      <td>9446</td>\n",
       "      <td>Thriller</td>\n",
       "    </tr>\n",
       "    <tr>\n",
       "      <th>24884</th>\n",
       "      <td>9447</td>\n",
       "      <td>Crime</td>\n",
       "    </tr>\n",
       "    <tr>\n",
       "      <th>24885</th>\n",
       "      <td>9447</td>\n",
       "      <td>Action</td>\n",
       "    </tr>\n",
       "    <tr>\n",
       "      <th>24886</th>\n",
       "      <td>9447</td>\n",
       "      <td>Thriller</td>\n",
       "    </tr>\n",
       "  </tbody>\n",
       "</table>\n",
       "<p>24887 rows × 2 columns</p>\n",
       "</div>"
      ],
      "text/plain": [
       "       movie_id     genre\n",
       "0             1    Comedy\n",
       "1             1     Drama\n",
       "2             1   Romance\n",
       "3             1     Crime\n",
       "4             2    Comedy\n",
       "...         ...       ...\n",
       "24882      9446    Action\n",
       "24883      9446  Thriller\n",
       "24884      9447     Crime\n",
       "24885      9447    Action\n",
       "24886      9447  Thriller\n",
       "\n",
       "[24887 rows x 2 columns]"
      ]
     },
     "execution_count": 42,
     "metadata": {},
     "output_type": "execute_result"
    }
   ],
   "source": [
    "genres"
   ]
  },
  {
   "cell_type": "code",
   "execution_count": 43,
   "id": "84610bc9",
   "metadata": {},
   "outputs": [
    {
     "data": {
      "text/plain": [
       "Index(['Movie ID', 'Title', 'Overview', 'Release Date', 'Runtime',\n",
       "       'Popularity', 'Budget', 'Adult', 'Cast', 'Director',\n",
       "       'Production Companies', 'Production Countries', 'Movie Homepage'],\n",
       "      dtype='object')"
      ]
     },
     "execution_count": 43,
     "metadata": {},
     "output_type": "execute_result"
    }
   ],
   "source": [
    "movies.drop(labels='Genres',axis=1,inplace=True)\n",
    "movies.columns"
   ]
  },
  {
   "cell_type": "code",
   "execution_count": 1,
   "id": "0f4efafb",
   "metadata": {},
   "outputs": [
    {
     "data": {
      "text/plain": [
       "Index(['Movie ID', 'Title', 'Overview', 'Release Date', 'Runtime',\n",
       "       'Popularity', 'Budget', 'Adult', 'Cast', 'Director',\n",
       "       'Production Companies', 'Production Countries', 'Movie Homepage'],\n",
       "      dtype='object')"
      ]
     },
     "execution_count": 1,
     "metadata": {},
     "output_type": "execute_result"
    }
   ],
   "source": [
    "lpath=r'cpdata4v2'\n",
    "import pandas as pd \n",
    "movies=pd.read_csv(lpath+'\\\\movies.csv')\n",
    "movies.columns"
   ]
  },
  {
   "cell_type": "code",
   "execution_count": 2,
   "id": "986c9b54",
   "metadata": {},
   "outputs": [],
   "source": [
    "movies.drop(labels=['Popularity', 'Budget'],axis=1,inplace=True)"
   ]
  },
  {
   "cell_type": "code",
   "execution_count": 3,
   "id": "b4789b1c",
   "metadata": {},
   "outputs": [],
   "source": [
    "movies.to_csv(lpath+'\\\\movies_data.csv',index=False)"
   ]
  },
  {
   "cell_type": "code",
   "execution_count": null,
   "id": "9c7fbf88",
   "metadata": {},
   "outputs": [],
   "source": []
  }
 ],
 "metadata": {
  "kernelspec": {
   "display_name": "Python 3",
   "language": "python",
   "name": "python3"
  },
  "language_info": {
   "codemirror_mode": {
    "name": "ipython",
    "version": 3
   },
   "file_extension": ".py",
   "mimetype": "text/x-python",
   "name": "python",
   "nbconvert_exporter": "python",
   "pygments_lexer": "ipython3",
   "version": "3.10.11"
  }
 },
 "nbformat": 4,
 "nbformat_minor": 5
}
